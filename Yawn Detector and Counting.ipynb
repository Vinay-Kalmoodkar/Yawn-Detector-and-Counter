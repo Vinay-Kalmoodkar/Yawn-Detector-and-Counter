{
 "cells": [
  {
   "cell_type": "markdown",
   "metadata": {},
   "source": [
    "## Yawn Detector and Counting"
   ]
  },
  {
   "cell_type": "code",
   "execution_count": null,
   "metadata": {},
   "outputs": [],
   "source": [
    "#importing libraries\n",
    "import cv2\n",
    "import dlib\n",
    "import numpy as np"
   ]
  },
  {
   "cell_type": "code",
   "execution_count": null,
   "metadata": {},
   "outputs": [],
   "source": [
    "PREDICTOR_PATH = \"shape_predictor_68_face_landmarks.dat\" #this is the crux of this project\n",
    "predictor = dlib.shape_predictor(PREDICTOR_PATH)\n",
    "detector = dlib.get_frontal_face_detector()"
   ]
  },
  {
   "cell_type": "markdown",
   "metadata": {},
   "source": [
    "#### About \"shape_predictor_68_face_landmarks.dat\"\n",
    "\n",
    "It's a pre-trained facial landmarks detector model. It is used to estimate the location of 68 coordinates (x, y) that map the facial points on a person’s face like image below."
   ]
  },
  {
   "cell_type": "markdown",
   "metadata": {},
   "source": [
    "![title](landmarks.PNG)"
   ]
  },
  {
   "cell_type": "code",
   "execution_count": null,
   "metadata": {},
   "outputs": [],
   "source": [
    "#this function will return the x,y co ordinates of 68 landmarks\n",
    "def get_landmarks(im):\n",
    "    rects = detector(im, 1)\n",
    "\n",
    "    if len(rects) > 1:\n",
    "        return \"error\"\n",
    "    if len(rects) == 0:\n",
    "        return \"error\"\n",
    "    \n",
    "    return np.matrix([[p.x, p.y] for p in predictor(im, rects[0]).parts()])"
   ]
  },
  {
   "cell_type": "code",
   "execution_count": null,
   "metadata": {},
   "outputs": [],
   "source": [
    "# to annotate the facial landmarks\n",
    "def annotate_landmarks(im, landmarks):\n",
    "    im = im.copy()\n",
    "    for idx, point in enumerate(landmarks):\n",
    "        pos = (point[0, 0], point[0, 1])\n",
    "        cv2.putText(im, str(idx), pos,\n",
    "                    fontFace=cv2.FONT_HERSHEY_SCRIPT_SIMPLEX,\n",
    "                    fontScale=0.4,\n",
    "                    color=(0, 0, 255))\n",
    "        cv2.circle(im, pos, 3, color=(0, 255, 255))\n",
    "    return im"
   ]
  },
  {
   "cell_type": "code",
   "execution_count": null,
   "metadata": {},
   "outputs": [],
   "source": [
    "#this function will return the mean value of upper lip\n",
    "def upper_lip(landmarks):\n",
    "    upper_lip_pts = []\n",
    "    for i in range(50,53):\n",
    "        upper_lip_pts.append(landmarks[i])\n",
    "    for i in range(61,64):\n",
    "        upper_lip_pts.append(landmarks[i])\n",
    "    upper_lip_all_pts = np.squeeze(np.asarray(upper_lip_pts))\n",
    "    upper_lip_mean = np.mean(upper_lip_pts, axis=0)\n",
    "    return int(upper_lip_mean[:,1])"
   ]
  },
  {
   "cell_type": "code",
   "execution_count": null,
   "metadata": {},
   "outputs": [],
   "source": [
    "#this function will return the mean value of bottom lip\n",
    "def bottom_lip(landmarks):\n",
    "    bottom_lip_pts = []\n",
    "    for i in range(65,68):\n",
    "        bottom_lip_pts.append(landmarks[i])\n",
    "    for i in range(56,59):\n",
    "        bottom_lip_pts.append(landmarks[i])\n",
    "    bottom_lip_all_pts = np.squeeze(np.asarray(bottom_lip_pts))\n",
    "    bottom_lip_mean = np.mean(bottom_lip_pts, axis=0)\n",
    "    return int(bottom_lip_mean[:,1])"
   ]
  },
  {
   "cell_type": "code",
   "execution_count": null,
   "metadata": {},
   "outputs": [],
   "source": [
    "# this function will return the distance between two lips\n",
    "def mouth_open(image):\n",
    "    landmarks = get_landmarks(image)\n",
    "    \n",
    "    if landmarks == \"error\":\n",
    "        return image, 0\n",
    "    \n",
    "    image_with_landmarks = annotate_landmarks(image, landmarks)\n",
    "    upper_lip_center = upper_lip(landmarks)\n",
    "    bottom_lip_center = bottom_lip(landmarks)\n",
    "    lip_distance = abs(upper_lip_center - bottom_lip_center)\n",
    "    return image_with_landmarks, lip_distance"
   ]
  },
  {
   "cell_type": "code",
   "execution_count": null,
   "metadata": {},
   "outputs": [],
   "source": [
    "cap = cv2.VideoCapture(0)\n",
    "yawns = 0\n",
    "yawn_status = False \n",
    "\n",
    "while True:\n",
    "    ret, frame = cap.read()   \n",
    "    image_landmarks, lip_distance = mouth_open(frame)\n",
    "    \n",
    "    prev_yawn_status = yawn_status  \n",
    "    \n",
    "    if lip_distance > 25:\n",
    "        yawn_status = True \n",
    "        #shows the text\n",
    "        cv2.putText(frame, \"Subject is Yawning\", (50,450),cv2.FONT_HERSHEY_COMPLEX, 1,(0,0,255),2)\n",
    "        #yawn counter text\n",
    "        output_text = \" Yawn Count: \" + str(yawns + 1)\n",
    "        #show yawn counter text\n",
    "        cv2.putText(frame, output_text, (50,50),cv2.FONT_HERSHEY_COMPLEX, 1,(0,255,127),2) \n",
    "    else:\n",
    "        yawn_status = False \n",
    "         \n",
    "    if prev_yawn_status == True and yawn_status == False:\n",
    "        yawns += 1\n",
    "\n",
    "    cv2.imshow('Live Landmarks', image_landmarks )\n",
    "    cv2.imshow('Yawn Detection', frame )\n",
    "    \n",
    "    if cv2.waitKey(1) == 13: #13 is the Enter Key\n",
    "        break\n",
    "        \n",
    "cap.release()\n",
    "cv2.destroyAllWindows() "
   ]
  }
 ],
 "metadata": {
  "kernelspec": {
   "display_name": "Python 3",
   "language": "python",
   "name": "python3"
  },
  "language_info": {
   "codemirror_mode": {
    "name": "ipython",
    "version": 3
   },
   "file_extension": ".py",
   "mimetype": "text/x-python",
   "name": "python",
   "nbconvert_exporter": "python",
   "pygments_lexer": "ipython3",
   "version": "3.7.6"
  }
 },
 "nbformat": 4,
 "nbformat_minor": 1
}
